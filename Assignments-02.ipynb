{
 "cells": [
  {
   "cell_type": "markdown",
   "metadata": {},
   "source": [
    "Question 1.\n",
    "\n",
    "Given an integer array nums of 2n integers, group these integers into n pairs (a1, b1), (a2, b2),..., (an, bn) such that the sum of min(ai, bi) for all i is maximized. Return the maximized sum.\n",
    "\n",
    "**Example 1:**\n",
    "Input: nums = [1,4,3,2]\n",
    "Output: 4\n",
    "\n",
    "**Explanation:** All possible pairings (ignoring the ordering of elements) are:\n",
    "\n",
    "1. (1, 4), (2, 3) -> min(1, 4) + min(2, 3) = 1 + 2 = 3\n",
    "2. (1, 3), (2, 4) -> min(1, 3) + min(2, 4) = 1 + 2 = 3\n",
    "3. (1, 2), (3, 4) -> min(1, 2) + min(3, 4) = 1 + 3 = 4\n",
    "So the maximum possible sum is 4\n"
   ]
  },
  {
   "cell_type": "code",
   "execution_count": 1,
   "metadata": {},
   "outputs": [
    {
     "name": "stdout",
     "output_type": "stream",
     "text": [
      "4\n"
     ]
    }
   ],
   "source": [
    "# To maximize the sum of minimum values in pairings of integers from an array nums, we need to pair the elements in a \n",
    "# way that the smaller elements are paired together. Sorting the array in ascending order will ensure that the smaller \n",
    "# elements are at the beginning of the array. Then, by pairing the consecutive elements, we can maximize the sum of \n",
    "# the minimum values. \n",
    "\n",
    "def arrayPairSum(nums):\n",
    "    nums.sort()\n",
    "    max_sum = 0\n",
    "    for i in range(0, len(nums), 2):\n",
    "        max_sum += nums[i]\n",
    "    return max_sum\n",
    "\n",
    "# Example usage:\n",
    "nums = [1, 4, 3, 2]\n",
    "result = arrayPairSum(nums)\n",
    "print(result)  "
   ]
  },
  {
   "cell_type": "markdown",
   "metadata": {},
   "source": [
    "Question 2\n",
    "Alice has n candies, where the ith candy is of type candyType[i]. Alice noticed that she started to gain weight, \n",
    "so she visited a doctor. \n",
    "\n",
    "The doctor advised Alice to only eat n / 2 of the candies she has (n is always even). Alice likes her candies very much, \n",
    "and she wants to eat the maximum number of different types of candies while still following the doctor's advice. \n",
    "\n",
    "Given the integer array candyType of length n, return the maximum number of different types of candies she can eat \n",
    "if she only eats n / 2 of them.\n",
    "\n",
    "Example 1:\n",
    "Input: candyType = [1,1,2,2,3,3]\n",
    "Output: 3\n",
    "\n",
    "Explanation: Alice can only eat 6 / 2 = 3 candies. Since there are only 3 types, she can eat one of each type."
   ]
  },
  {
   "cell_type": "code",
   "execution_count": 2,
   "metadata": {},
   "outputs": [
    {
     "name": "stdout",
     "output_type": "stream",
     "text": [
      "3\n"
     ]
    }
   ],
   "source": [
    "# To determine the maximum number of different types of candies Alice can eat if she follows the doctor's advice \n",
    "# to eat only n/2 candies, we can use a set to keep track of the unique types of candies. We need to calculate \n",
    "# the minimum between n/2 and the number of unique candies to ensure Alice eats the maximum possible different types.\n",
    "\n",
    "def distributeCandies(candyType):\n",
    "    max_candies = len(candyType) // 2\n",
    "    unique_candies = len(set(candyType))\n",
    "    return min(max_candies, unique_candies)\n",
    "\n",
    "# Example usage:\n",
    "candyType = [1, 1, 2, 2, 3, 3]\n",
    "result = distributeCandies(candyType)\n",
    "print(result)  "
   ]
  },
  {
   "cell_type": "markdown",
   "metadata": {},
   "source": [
    "Question 3\n",
    "We define a harmonious array as an array where the difference between its maximum value\n",
    "and its minimum value is exactly 1.\n",
    "\n",
    "Given an integer array nums, return the length of its longest harmonious subsequence\n",
    "among all its possible subsequences.\n",
    "\n",
    "A subsequence of an array is a sequence that can be derived from the array by deleting some or no elements without \n",
    "changing the order of the remaining elements.\n",
    "\n",
    "Example 1:\n",
    "Input: nums = [1,3,2,2,5,2,3,7]\n",
    "Output: 5\n",
    "\n",
    "Explanation: The longest harmonious subsequence is [3,2,2,2,3]."
   ]
  },
  {
   "cell_type": "code",
   "execution_count": 3,
   "metadata": {},
   "outputs": [
    {
     "name": "stdout",
     "output_type": "stream",
     "text": [
      "5\n"
     ]
    }
   ],
   "source": [
    "# To find the length of the longest harmonious subsequence in an integer array nums, we can iterate through the array \n",
    "# and count the occurrences of each number using a dictionary. Then, for each number in the dictionary, we can check \n",
    "# if its complement (the number + 1) also exists in the dictionary. If it does, we can calculate the length of the \n",
    "# harmonious subsequence by adding the counts of the two numbers. We keep track of the maximum length seen so far and \n",
    "# return it as the result. \n",
    "\n",
    "def findLHS(nums):\n",
    "    num_counts = {}\n",
    "    max_length = 0\n",
    "\n",
    "    # Count occurrences of each number\n",
    "    for num in nums:\n",
    "        num_counts[num] = num_counts.get(num, 0) + 1\n",
    "\n",
    "    # Check each number and its complement\n",
    "    for num in num_counts:\n",
    "        if num + 1 in num_counts:\n",
    "            length = num_counts[num] + num_counts[num + 1]\n",
    "            max_length = max(max_length, length)\n",
    "\n",
    "    return max_length\n",
    "\n",
    "# Example usage:\n",
    "nums = [1, 3, 2, 2, 5, 2, 3, 7]\n",
    "result = findLHS(nums)\n",
    "print(result)\n"
   ]
  },
  {
   "cell_type": "markdown",
   "metadata": {},
   "source": [
    "Question 4\n",
    "You have a long flowerbed in which some of the plots are planted, and some are not.\n",
    "However, flowers cannot be planted in adjacent plots.\n",
    "\n",
    "Given an integer array flowerbed containing 0's and 1's, where 0 means empty and 1 means not empty, and an integer n, \n",
    "return true if n new flowers can be planted in the flowerbed without violating the no-adjacent-flowers rule \n",
    "and false otherwise.\n",
    "\n",
    "Example 1:\n",
    "Input: flowerbed = [1,0,0,0,1], n = 1\n",
    "Output: true"
   ]
  },
  {
   "cell_type": "code",
   "execution_count": 4,
   "metadata": {},
   "outputs": [
    {
     "name": "stdout",
     "output_type": "stream",
     "text": [
      "True\n"
     ]
    }
   ],
   "source": [
    "# To determine if n new flowers can be planted in a flowerbed without violating the no-adjacent-flowers rule, \n",
    "# we can iterate through the flowerbed and check the neighboring plots for each empty plot. If the current plot is empty \n",
    "# and its neighboring plots are also empty or out of bounds, we can plant a flower in that plot and decrement n by 1. \n",
    "# After iterating through the flowerbed, if n becomes 0, it means all n flowers have been successfully planted without \n",
    "# violating the rule, and we return True. Otherwise, we return False. \n",
    "\n",
    "def canPlaceFlowers(flowerbed, n):\n",
    "    length = len(flowerbed)\n",
    "    count = 0\n",
    "    i = 0\n",
    "\n",
    "    while i < length:\n",
    "        if flowerbed[i] == 0 and (i == 0 or flowerbed[i - 1] == 0) and (i == length - 1 or flowerbed[i + 1] == 0):\n",
    "            flowerbed[i] = 1\n",
    "            count += 1\n",
    "            if count == n:\n",
    "                return True\n",
    "        i += 1\n",
    "\n",
    "    return False\n",
    "\n",
    "# Example usage:\n",
    "flowerbed = [1, 0, 0, 0, 1]\n",
    "n = 1\n",
    "result = canPlaceFlowers(flowerbed, n)\n",
    "print(result) \n"
   ]
  },
  {
   "cell_type": "markdown",
   "metadata": {},
   "source": [
    "Question 5\n",
    "Given an integer array nums, find three numbers whose product is maximum and return the maximum product.\n",
    "\n",
    "Example 1:\n",
    "Input: nums = [1,2,3]\n",
    "Output: 6"
   ]
  },
  {
   "cell_type": "code",
   "execution_count": 5,
   "metadata": {},
   "outputs": [
    {
     "name": "stdout",
     "output_type": "stream",
     "text": [
      "6\n"
     ]
    }
   ],
   "source": [
    "# To find the maximum product of three numbers in an integer array nums, we can sort the array in non-decreasing order. \n",
    "# The maximum product can be achieved either by multiplying the three largest numbers in the array or by multiplying \n",
    "# the two smallest negative numbers (if present) with the largest positive number.\n",
    "\n",
    "def maximumProduct(nums):\n",
    "    nums.sort()\n",
    "    n = len(nums)\n",
    "    return max(nums[n-1] * nums[n-2] * nums[n-3], nums[0] * nums[1] * nums[n-1])\n",
    "\n",
    "# Example usage:\n",
    "nums = [1, 2, 3]\n",
    "result = maximumProduct(nums)\n",
    "print(result) \n"
   ]
  },
  {
   "cell_type": "markdown",
   "metadata": {},
   "source": [
    "Question 6.\n",
    "Given an array of integers nums which is sorted in ascending order, and an integer target,\n",
    "write a function to search target in nums. If target exists, then return its index. Otherwise,\n",
    "return -1.\n",
    "\n",
    "You must write an algorithm with O(log n) runtime complexity.\n",
    "\n",
    "Input: nums = [-1,0,3,5,9,12], target = 9\n",
    "Output: 4\n",
    "\n",
    "Explanation: 9 exists in nums and its index is 4"
   ]
  },
  {
   "cell_type": "code",
   "execution_count": null,
   "metadata": {},
   "outputs": [],
   "source": [
    "# To search for a target value in a sorted array nums with O(log n) runtime complexity, \n",
    "# we can use the binary search algorithm. \n",
    "\n",
    "def search(nums, target):\n",
    "    left = 0\n",
    "    right = len(nums) - 1\n",
    "\n",
    "    while left <= right:\n",
    "        mid = left + (right - left) // 2\n",
    "\n",
    "        if nums[mid] == target:\n",
    "            return mid\n",
    "        elif nums[mid] < target:\n",
    "            left = mid + 1\n",
    "        else:\n",
    "            right = mid - 1\n",
    "\n",
    "    return -1\n",
    "\n",
    "# Example usage:\n",
    "nums = [-1, 0, 3, 5, 9, 12]\n",
    "target = 9\n",
    "result = search(nums, target)\n",
    "print(result)\n"
   ]
  },
  {
   "cell_type": "markdown",
   "metadata": {},
   "source": [
    "Question 7\n",
    "An array is monotonic if it is either monotone increasing or monotone decreasing.\n",
    "\n",
    "An array nums is monotone increasing if for all i <= j, nums[i] <= nums[j]. An array nums is\n",
    "monotone decreasing if for all i <= j, nums[i] >= nums[j].\n",
    "\n",
    "Given an integer array nums, return true if the given array is monotonic, or false otherwise.\n",
    "\n",
    "Example 1:\n",
    "Input: nums = [1,2,2,3]\n",
    "Output: true"
   ]
  },
  {
   "cell_type": "code",
   "execution_count": 6,
   "metadata": {},
   "outputs": [
    {
     "name": "stdout",
     "output_type": "stream",
     "text": [
      "True\n"
     ]
    }
   ],
   "source": [
    "# To determine if an array nums is monotonic, we can check if it is either monotone increasing or monotone decreasing.\n",
    "\n",
    "def isMonotonic(nums):\n",
    "    isIncreasing = True\n",
    "    isDecreasing = True\n",
    "\n",
    "    for i in range(1, len(nums)):\n",
    "        if nums[i] < nums[i - 1]:\n",
    "            isIncreasing = False\n",
    "        if nums[i] > nums[i - 1]:\n",
    "            isDecreasing = False\n",
    "\n",
    "    return isIncreasing or isDecreasing\n",
    "\n",
    "# Example usage:\n",
    "nums = [1, 2, 2, 3]\n",
    "result = isMonotonic(nums)\n",
    "print(result) \n"
   ]
  },
  {
   "cell_type": "markdown",
   "metadata": {},
   "source": [
    "Question 8\n",
    "You are given an integer array nums and an integer k.\n",
    "\n",
    "In one operation, you can choose any index i where 0 <= i < nums.length and change nums[i] to nums[i] + x where x is an integer \n",
    "from the range [-k, k]. You can apply this operation at most once for each index i.\n",
    "\n",
    "The score of nums is the difference between the maximum and minimum elements in nums.\n",
    "\n",
    "Return the minimum score of nums after applying the mentioned operation at most once for each index in it.\n",
    "\n",
    "Example 1:\n",
    "Input: nums = [1], k = 0\n",
    "Output: 0\n",
    "\n",
    "Explanation: The score is max(nums) - min(nums) = 1 - 1 = 0."
   ]
  },
  {
   "cell_type": "code",
   "execution_count": 7,
   "metadata": {},
   "outputs": [
    {
     "name": "stdout",
     "output_type": "stream",
     "text": [
      "0\n"
     ]
    }
   ],
   "source": [
    "# To find the minimum score of the array nums after applying the mentioned operation at most once for each index, \n",
    "# we need to determine the smallest possible difference between the maximum and minimum elements.\n",
    "\n",
    "def minimumScore(nums, k):\n",
    "    max_num = max(nums)\n",
    "    min_num = min(nums)\n",
    "\n",
    "    if max_num - min_num <= 2 * k:\n",
    "        return 0\n",
    "\n",
    "    min_possible = min_num + k\n",
    "    max_possible = max_num - k\n",
    "\n",
    "    return max_possible - min_possible\n",
    "\n",
    "# Example usage:\n",
    "nums = [1]\n",
    "k = 0\n",
    "result = minimumScore(nums, k)\n",
    "print(result)\n"
   ]
  },
  {
   "cell_type": "code",
   "execution_count": null,
   "metadata": {},
   "outputs": [],
   "source": []
  }
 ],
 "metadata": {
  "kernelspec": {
   "display_name": "Python 3",
   "language": "python",
   "name": "python3"
  },
  "language_info": {
   "codemirror_mode": {
    "name": "ipython",
    "version": 3
   },
   "file_extension": ".py",
   "mimetype": "text/x-python",
   "name": "python",
   "nbconvert_exporter": "python",
   "pygments_lexer": "ipython3",
   "version": "3.8.5"
  }
 },
 "nbformat": 4,
 "nbformat_minor": 4
}
